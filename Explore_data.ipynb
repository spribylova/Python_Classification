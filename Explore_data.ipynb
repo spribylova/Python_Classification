{
  "nbformat": 4,
  "nbformat_minor": 0,
  "metadata": {
    "colab": {
      "provenance": []
    },
    "kernelspec": {
      "name": "python3",
      "display_name": "Python 3"
    },
    "language_info": {
      "name": "python"
    }
  },
  "cells": [
    {
      "cell_type": "code",
      "execution_count": 1,
      "metadata": {
        "colab": {
          "base_uri": "https://localhost:8080/",
          "height": 918
        },
        "id": "_c8cOKLeYjfo",
        "outputId": "20f6b9cc-7b52-4519-f8f3-d7a9386ebc90"
      },
      "outputs": [
        {
          "output_type": "stream",
          "name": "stdout",
          "text": [
            "--2022-12-12 12:50:18--  https://raw.githubusercontent.com/MicrosoftDocs/mslearn-introduction-to-machine-learning/main/Data/ml-basics/grades.csv\n",
            "Resolving raw.githubusercontent.com (raw.githubusercontent.com)... 185.199.110.133, 185.199.109.133, 185.199.108.133, ...\n",
            "Connecting to raw.githubusercontent.com (raw.githubusercontent.com)|185.199.110.133|:443... connected.\n",
            "HTTP request sent, awaiting response... 200 OK\n",
            "Length: 322 [text/plain]\n",
            "Saving to: ‘grades.csv’\n",
            "\n",
            "\rgrades.csv            0%[                    ]       0  --.-KB/s               \rgrades.csv          100%[===================>]     322  --.-KB/s    in 0s      \n",
            "\n",
            "2022-12-12 12:50:18 (15.4 MB/s) - ‘grades.csv’ saved [322/322]\n",
            "\n"
          ]
        },
        {
          "output_type": "execute_result",
          "data": {
            "text/plain": [
              "         Name  StudyHours  Grade   Pass\n",
              "0         Dan       10.00   50.0  False\n",
              "1       Joann       11.50   50.0  False\n",
              "2       Pedro        9.00   47.0  False\n",
              "3       Rosie       16.00   97.0   True\n",
              "4       Ethan        9.25   49.0  False\n",
              "5       Vicky        1.00    3.0  False\n",
              "6    Frederic       11.50   53.0  False\n",
              "7      Jimmie        9.00   42.0  False\n",
              "8      Rhonda        8.50   26.0  False\n",
              "9    Giovanni       14.50   74.0   True\n",
              "10  Francesca       15.50   82.0   True\n",
              "11      Rajab       13.75   62.0   True\n",
              "12    Naiyana        9.00   37.0  False\n",
              "13       Kian        8.00   15.0  False\n",
              "14      Jenny       15.50   70.0   True\n",
              "15     Jakeem        8.00   27.0  False\n",
              "16     Helena        9.00   36.0  False\n",
              "17      Ismat        6.00   35.0  False\n",
              "18      Anila       10.00   48.0  False\n",
              "19       Skye       12.00   52.0  False\n",
              "20     Daniel       12.50   63.0   True\n",
              "21      Aisha       12.00   64.0   True"
            ],
            "text/html": [
              "\n",
              "  <div id=\"df-f3347340-b0c7-46ca-9e1d-2edd1c2cc6c5\">\n",
              "    <div class=\"colab-df-container\">\n",
              "      <div>\n",
              "<style scoped>\n",
              "    .dataframe tbody tr th:only-of-type {\n",
              "        vertical-align: middle;\n",
              "    }\n",
              "\n",
              "    .dataframe tbody tr th {\n",
              "        vertical-align: top;\n",
              "    }\n",
              "\n",
              "    .dataframe thead th {\n",
              "        text-align: right;\n",
              "    }\n",
              "</style>\n",
              "<table border=\"1\" class=\"dataframe\">\n",
              "  <thead>\n",
              "    <tr style=\"text-align: right;\">\n",
              "      <th></th>\n",
              "      <th>Name</th>\n",
              "      <th>StudyHours</th>\n",
              "      <th>Grade</th>\n",
              "      <th>Pass</th>\n",
              "    </tr>\n",
              "  </thead>\n",
              "  <tbody>\n",
              "    <tr>\n",
              "      <th>0</th>\n",
              "      <td>Dan</td>\n",
              "      <td>10.00</td>\n",
              "      <td>50.0</td>\n",
              "      <td>False</td>\n",
              "    </tr>\n",
              "    <tr>\n",
              "      <th>1</th>\n",
              "      <td>Joann</td>\n",
              "      <td>11.50</td>\n",
              "      <td>50.0</td>\n",
              "      <td>False</td>\n",
              "    </tr>\n",
              "    <tr>\n",
              "      <th>2</th>\n",
              "      <td>Pedro</td>\n",
              "      <td>9.00</td>\n",
              "      <td>47.0</td>\n",
              "      <td>False</td>\n",
              "    </tr>\n",
              "    <tr>\n",
              "      <th>3</th>\n",
              "      <td>Rosie</td>\n",
              "      <td>16.00</td>\n",
              "      <td>97.0</td>\n",
              "      <td>True</td>\n",
              "    </tr>\n",
              "    <tr>\n",
              "      <th>4</th>\n",
              "      <td>Ethan</td>\n",
              "      <td>9.25</td>\n",
              "      <td>49.0</td>\n",
              "      <td>False</td>\n",
              "    </tr>\n",
              "    <tr>\n",
              "      <th>5</th>\n",
              "      <td>Vicky</td>\n",
              "      <td>1.00</td>\n",
              "      <td>3.0</td>\n",
              "      <td>False</td>\n",
              "    </tr>\n",
              "    <tr>\n",
              "      <th>6</th>\n",
              "      <td>Frederic</td>\n",
              "      <td>11.50</td>\n",
              "      <td>53.0</td>\n",
              "      <td>False</td>\n",
              "    </tr>\n",
              "    <tr>\n",
              "      <th>7</th>\n",
              "      <td>Jimmie</td>\n",
              "      <td>9.00</td>\n",
              "      <td>42.0</td>\n",
              "      <td>False</td>\n",
              "    </tr>\n",
              "    <tr>\n",
              "      <th>8</th>\n",
              "      <td>Rhonda</td>\n",
              "      <td>8.50</td>\n",
              "      <td>26.0</td>\n",
              "      <td>False</td>\n",
              "    </tr>\n",
              "    <tr>\n",
              "      <th>9</th>\n",
              "      <td>Giovanni</td>\n",
              "      <td>14.50</td>\n",
              "      <td>74.0</td>\n",
              "      <td>True</td>\n",
              "    </tr>\n",
              "    <tr>\n",
              "      <th>10</th>\n",
              "      <td>Francesca</td>\n",
              "      <td>15.50</td>\n",
              "      <td>82.0</td>\n",
              "      <td>True</td>\n",
              "    </tr>\n",
              "    <tr>\n",
              "      <th>11</th>\n",
              "      <td>Rajab</td>\n",
              "      <td>13.75</td>\n",
              "      <td>62.0</td>\n",
              "      <td>True</td>\n",
              "    </tr>\n",
              "    <tr>\n",
              "      <th>12</th>\n",
              "      <td>Naiyana</td>\n",
              "      <td>9.00</td>\n",
              "      <td>37.0</td>\n",
              "      <td>False</td>\n",
              "    </tr>\n",
              "    <tr>\n",
              "      <th>13</th>\n",
              "      <td>Kian</td>\n",
              "      <td>8.00</td>\n",
              "      <td>15.0</td>\n",
              "      <td>False</td>\n",
              "    </tr>\n",
              "    <tr>\n",
              "      <th>14</th>\n",
              "      <td>Jenny</td>\n",
              "      <td>15.50</td>\n",
              "      <td>70.0</td>\n",
              "      <td>True</td>\n",
              "    </tr>\n",
              "    <tr>\n",
              "      <th>15</th>\n",
              "      <td>Jakeem</td>\n",
              "      <td>8.00</td>\n",
              "      <td>27.0</td>\n",
              "      <td>False</td>\n",
              "    </tr>\n",
              "    <tr>\n",
              "      <th>16</th>\n",
              "      <td>Helena</td>\n",
              "      <td>9.00</td>\n",
              "      <td>36.0</td>\n",
              "      <td>False</td>\n",
              "    </tr>\n",
              "    <tr>\n",
              "      <th>17</th>\n",
              "      <td>Ismat</td>\n",
              "      <td>6.00</td>\n",
              "      <td>35.0</td>\n",
              "      <td>False</td>\n",
              "    </tr>\n",
              "    <tr>\n",
              "      <th>18</th>\n",
              "      <td>Anila</td>\n",
              "      <td>10.00</td>\n",
              "      <td>48.0</td>\n",
              "      <td>False</td>\n",
              "    </tr>\n",
              "    <tr>\n",
              "      <th>19</th>\n",
              "      <td>Skye</td>\n",
              "      <td>12.00</td>\n",
              "      <td>52.0</td>\n",
              "      <td>False</td>\n",
              "    </tr>\n",
              "    <tr>\n",
              "      <th>20</th>\n",
              "      <td>Daniel</td>\n",
              "      <td>12.50</td>\n",
              "      <td>63.0</td>\n",
              "      <td>True</td>\n",
              "    </tr>\n",
              "    <tr>\n",
              "      <th>21</th>\n",
              "      <td>Aisha</td>\n",
              "      <td>12.00</td>\n",
              "      <td>64.0</td>\n",
              "      <td>True</td>\n",
              "    </tr>\n",
              "  </tbody>\n",
              "</table>\n",
              "</div>\n",
              "      <button class=\"colab-df-convert\" onclick=\"convertToInteractive('df-f3347340-b0c7-46ca-9e1d-2edd1c2cc6c5')\"\n",
              "              title=\"Convert this dataframe to an interactive table.\"\n",
              "              style=\"display:none;\">\n",
              "        \n",
              "  <svg xmlns=\"http://www.w3.org/2000/svg\" height=\"24px\"viewBox=\"0 0 24 24\"\n",
              "       width=\"24px\">\n",
              "    <path d=\"M0 0h24v24H0V0z\" fill=\"none\"/>\n",
              "    <path d=\"M18.56 5.44l.94 2.06.94-2.06 2.06-.94-2.06-.94-.94-2.06-.94 2.06-2.06.94zm-11 1L8.5 8.5l.94-2.06 2.06-.94-2.06-.94L8.5 2.5l-.94 2.06-2.06.94zm10 10l.94 2.06.94-2.06 2.06-.94-2.06-.94-.94-2.06-.94 2.06-2.06.94z\"/><path d=\"M17.41 7.96l-1.37-1.37c-.4-.4-.92-.59-1.43-.59-.52 0-1.04.2-1.43.59L10.3 9.45l-7.72 7.72c-.78.78-.78 2.05 0 2.83L4 21.41c.39.39.9.59 1.41.59.51 0 1.02-.2 1.41-.59l7.78-7.78 2.81-2.81c.8-.78.8-2.07 0-2.86zM5.41 20L4 18.59l7.72-7.72 1.47 1.35L5.41 20z\"/>\n",
              "  </svg>\n",
              "      </button>\n",
              "      \n",
              "  <style>\n",
              "    .colab-df-container {\n",
              "      display:flex;\n",
              "      flex-wrap:wrap;\n",
              "      gap: 12px;\n",
              "    }\n",
              "\n",
              "    .colab-df-convert {\n",
              "      background-color: #E8F0FE;\n",
              "      border: none;\n",
              "      border-radius: 50%;\n",
              "      cursor: pointer;\n",
              "      display: none;\n",
              "      fill: #1967D2;\n",
              "      height: 32px;\n",
              "      padding: 0 0 0 0;\n",
              "      width: 32px;\n",
              "    }\n",
              "\n",
              "    .colab-df-convert:hover {\n",
              "      background-color: #E2EBFA;\n",
              "      box-shadow: 0px 1px 2px rgba(60, 64, 67, 0.3), 0px 1px 3px 1px rgba(60, 64, 67, 0.15);\n",
              "      fill: #174EA6;\n",
              "    }\n",
              "\n",
              "    [theme=dark] .colab-df-convert {\n",
              "      background-color: #3B4455;\n",
              "      fill: #D2E3FC;\n",
              "    }\n",
              "\n",
              "    [theme=dark] .colab-df-convert:hover {\n",
              "      background-color: #434B5C;\n",
              "      box-shadow: 0px 1px 3px 1px rgba(0, 0, 0, 0.15);\n",
              "      filter: drop-shadow(0px 1px 2px rgba(0, 0, 0, 0.3));\n",
              "      fill: #FFFFFF;\n",
              "    }\n",
              "  </style>\n",
              "\n",
              "      <script>\n",
              "        const buttonEl =\n",
              "          document.querySelector('#df-f3347340-b0c7-46ca-9e1d-2edd1c2cc6c5 button.colab-df-convert');\n",
              "        buttonEl.style.display =\n",
              "          google.colab.kernel.accessAllowed ? 'block' : 'none';\n",
              "\n",
              "        async function convertToInteractive(key) {\n",
              "          const element = document.querySelector('#df-f3347340-b0c7-46ca-9e1d-2edd1c2cc6c5');\n",
              "          const dataTable =\n",
              "            await google.colab.kernel.invokeFunction('convertToInteractive',\n",
              "                                                     [key], {});\n",
              "          if (!dataTable) return;\n",
              "\n",
              "          const docLinkHtml = 'Like what you see? Visit the ' +\n",
              "            '<a target=\"_blank\" href=https://colab.research.google.com/notebooks/data_table.ipynb>data table notebook</a>'\n",
              "            + ' to learn more about interactive tables.';\n",
              "          element.innerHTML = '';\n",
              "          dataTable['output_type'] = 'display_data';\n",
              "          await google.colab.output.renderOutput(dataTable, element);\n",
              "          const docLink = document.createElement('div');\n",
              "          docLink.innerHTML = docLinkHtml;\n",
              "          element.appendChild(docLink);\n",
              "        }\n",
              "      </script>\n",
              "    </div>\n",
              "  </div>\n",
              "  "
            ]
          },
          "metadata": {},
          "execution_count": 1
        }
      ],
      "source": [
        "import pandas as pd\n",
        "\n",
        "# Load data from a text file\n",
        "!wget https://raw.githubusercontent.com/MicrosoftDocs/mslearn-introduction-to-machine-learning/main/Data/ml-basics/grades.csv\n",
        "df_students = pd.read_csv('grades.csv',delimiter=',',header='infer')\n",
        "\n",
        "# Remove any rows with missing data\n",
        "df_students = df_students.dropna(axis=0, how='any')\n",
        "\n",
        "# Calculate who passed, assuming '60' is the grade needed to pass\n",
        "passes  = pd.Series(df_students['Grade'] >= 60)\n",
        "\n",
        "# Save who passed to the Pandas dataframe\n",
        "df_students = pd.concat([df_students, passes.rename(\"Pass\")], axis=1)\n",
        "\n",
        "\n",
        "# Print the result out into this notebook\n",
        "df_students "
      ]
    },
    {
      "cell_type": "code",
      "source": [
        "# Ensure plots are displayed inline in the notebook\n",
        "%matplotlib inline\n",
        "\n",
        "from matplotlib import pyplot as plt\n",
        "\n",
        "# Create a bar plot of name vs grade\n",
        "plt.bar(x=df_students.Name, height=df_students.Grade, color='silver')\n",
        "\n",
        "# Display the plot\n",
        "plt.show()"
      ],
      "metadata": {
        "colab": {
          "base_uri": "https://localhost:8080/",
          "height": 265
        },
        "id": "Qhf2RJcHYqqO",
        "outputId": "37e3f6e5-2873-4548-f1db-705ef433d30c"
      },
      "execution_count": 4,
      "outputs": [
        {
          "output_type": "display_data",
          "data": {
            "text/plain": [
              "<Figure size 432x288 with 1 Axes>"
            ],
            "image/png": "[encoded data removed]"
          },
          "metadata": {
            "needs_background": "light"
          }
        }
      ]
    },
    {
      "cell_type": "code",
      "source": [
        "# Create a bar plot of name vs grade\n",
        "plt.bar(x=df_students.Name, height=df_students.Grade, color='silver')\n",
        "\n",
        "# Customize the chart\n",
        "plt.title('Student Grades')\n",
        "plt.xlabel('Student')\n",
        "plt.ylabel('Grade')\n",
        "plt.grid(color='#959595', linestyle='--', linewidth=2, axis='y', alpha=0.7)\n",
        "plt.xticks(rotation=90)\n",
        "\n",
        "# Display the plot\n",
        "plt.show()"
      ],
      "metadata": {
        "colab": {
          "base_uri": "https://localhost:8080/",
          "height": 335
        },
        "id": "wckZ1DdVYqtG",
        "outputId": "a3546811-ef00-4eab-c9f4-57372aec264a"
      },
      "execution_count": 6,
      "outputs": [
        {
          "output_type": "display_data",
          "data": {
            "text/plain": [
              "<Figure size 432x288 with 1 Axes>"
            ],
            "image/png": "[encoded data removed]"
          },
          "metadata": {
            "needs_background": "light"
          }
        }
      ]
    },
    {
      "cell_type": "code",
      "source": [
        "# Create a Figure\n",
        "fig = plt.figure(figsize=(8,3))\n",
        "\n",
        "# Create a bar plot of name vs grade\n",
        "plt.bar(x=df_students.Name, height=df_students.Grade, color='tan')\n",
        "\n",
        "# Customize the chart\n",
        "plt.title('Student Grades')\n",
        "plt.xlabel('Student')\n",
        "plt.ylabel('Grade')\n",
        "plt.grid(color='#959595', linestyle='--', linewidth=2, axis='y', alpha=0.7)\n",
        "plt.xticks(rotation=90)\n",
        "\n",
        "# Show the figure\n",
        "plt.show()"
      ],
      "metadata": {
        "colab": {
          "base_uri": "https://localhost:8080/",
          "height": 281
        },
        "id": "nRgkloMiYqv1",
        "outputId": "929123a0-b677-4380-cbc1-d8275c6a656c"
      },
      "execution_count": 8,
      "outputs": [
        {
          "output_type": "display_data",
          "data": {
            "text/plain": [
              "<Figure size 576x216 with 1 Axes>"
            ],
            "image/png": "[encoded data removed]"
          },
          "metadata": {
            "needs_background": "light"
          }
        }
      ]
    },
    {
      "cell_type": "code",
      "source": [
        "# Create a figure for 2 subplots (1 row, 2 columns)\n",
        "fig, ax = plt.subplots(1, 2, figsize = (10,4))\n",
        "\n",
        "# Create a bar plot of name vs grade on the first axis\n",
        "ax[0].bar(x=df_students.Name, height=df_students.Grade, color='tan')\n",
        "ax[0].set_title('Grades')\n",
        "ax[0].set_xticklabels(df_students.Name, rotation=90)\n",
        "\n",
        "# Create a pie chart of pass counts on the second axis\n",
        "pass_counts = df_students['Pass'].value_counts()\n",
        "ax[1].pie(pass_counts, labels=pass_counts, colors = ['#989898','#F5F5F5'])\n",
        "ax[1].set_title('Passing Grades')\n",
        "ax[1].legend(pass_counts.keys().tolist())\n",
        "\n",
        "# Add a title to the Figure\n",
        "fig.suptitle('Student Data')\n",
        "\n",
        "# Show the figure\n",
        "fig.show()"
      ],
      "metadata": {
        "colab": {
          "base_uri": "https://localhost:8080/",
          "height": 334
        },
        "id": "SzjzqkL1Yqyd",
        "outputId": "703c5614-1e19-492e-ecb3-605e48816888"
      },
      "execution_count": 18,
      "outputs": [
        {
          "output_type": "display_data",
          "data": {
            "text/plain": [
              "<Figure size 720x288 with 2 Axes>"
            ],
            "image/png": "[encoded data removed]"
          },
          "metadata": {
            "needs_background": "light"
          }
        }
      ]
    },
    {
      "cell_type": "code",
      "source": [
        "df_students.plot.bar(x='Name', y='StudyHours', color='silver', figsize=(6,4))"
      ],
      "metadata": {
        "colab": {
          "base_uri": "https://localhost:8080/",
          "height": 336
        },
        "id": "UKsbuLyOYq1N",
        "outputId": "3ef1100e-69ed-45af-882a-9b571fd302dd"
      },
      "execution_count": 20,
      "outputs": [
        {
          "output_type": "execute_result",
          "data": {
            "text/plain": [
              "<matplotlib.axes._subplots.AxesSubplot at 0x7f9d2509fd00>"
            ]
          },
          "metadata": {},
          "execution_count": 20
        },
        {
          "output_type": "display_data",
          "data": {
            "text/plain": [
              "<Figure size 432x288 with 1 Axes>"
            ],
            "image/png": "[encoded data removed]"
          },
          "metadata": {
            "needs_background": "light"
          }
        }
      ]
    },
    {
      "cell_type": "code",
      "source": [
        "# Get the variable to examine\n",
        "var_data = df_students['Grade']\n",
        "\n",
        "# Create a Figure\n",
        "fig = plt.figure(figsize=(10,4))\n",
        "\n",
        "# Plot a histogram\n",
        "plt.hist(var_data, color='silver')\n",
        "\n",
        "# Add titles and labels\n",
        "plt.title('Data Distribution')\n",
        "plt.xlabel('Value')\n",
        "plt.ylabel('Frequency')\n",
        "\n",
        "# Show the figure\n",
        "fig.show()"
      ],
      "metadata": {
        "colab": {
          "base_uri": "https://localhost:8080/",
          "height": 295
        },
        "id": "_UygXmkuZ2AX",
        "outputId": "bd838343-c38d-49be-c69c-81bf62dd8cd7"
      },
      "execution_count": 22,
      "outputs": [
        {
          "output_type": "display_data",
          "data": {
            "text/plain": [
              "<Figure size 720x288 with 1 Axes>"
            ],
            "image/png": "[encoded data removed]"
          },
          "metadata": {
            "needs_background": "light"
          }
        }
      ]
    },
    {
      "cell_type": "code",
      "source": [
        "# Get the variable to examine\n",
        "var = df_students['Grade']\n",
        "\n",
        "# Get statistics\n",
        "min_val = var.min()\n",
        "max_val = var.max()\n",
        "mean_val = var.mean()\n",
        "med_val = var.median()\n",
        "mod_val = var.mode()[0]\n",
        "\n",
        "print('Minimum:{:.2f}\\nMean:{:.2f}\\nMedian:{:.2f}\\nMode:{:.2f}\\nMaximum:{:.2f}\\n'.format(min_val,\n",
        "                                                                                        mean_val,\n",
        "                                                                                        med_val,\n",
        "                                                                                        mod_val,\n",
        "                                                                                        max_val))\n",
        "\n",
        "# Create a Figure\n",
        "fig = plt.figure(figsize=(10,4))\n",
        "\n",
        "# Plot a histogram\n",
        "plt.hist(var, color='silver')\n",
        "\n",
        "# Add lines for the statistics\n",
        "plt.axvline(x=min_val, color = 'gray', linestyle='dashed', linewidth = 2)\n",
        "plt.axvline(x=mean_val, color = 'tan', linestyle='dashed', linewidth = 2)\n",
        "plt.axvline(x=med_val, color = 'silver', linestyle='dashed', linewidth = 2)\n",
        "plt.axvline(x=mod_val, color = 'black', linestyle='dashed', linewidth = 2)\n",
        "plt.axvline(x=max_val, color = 'gray', linestyle='dashed', linewidth = 2)\n",
        "\n",
        "# Add titles and labels\n",
        "plt.title('Data Distribution')\n",
        "plt.xlabel('Value')\n",
        "plt.ylabel('Frequency')\n",
        "\n",
        "# Show the figure\n",
        "fig.show()"
      ],
      "metadata": {
        "colab": {
          "base_uri": "https://localhost:8080/",
          "height": 397
        },
        "id": "TWw5KuVXZ2DF",
        "outputId": "e59e805d-08f9-4e87-9ab5-0e30417fd250"
      },
      "execution_count": 26,
      "outputs": [
        {
          "output_type": "stream",
          "name": "stdout",
          "text": [
            "Minimum:3.00\n",
            "Mean:49.18\n",
            "Median:49.50\n",
            "Mode:50.00\n",
            "Maximum:97.00\n",
            "\n"
          ]
        },
        {
          "output_type": "display_data",
          "data": {
            "text/plain": [
              "<Figure size 720x288 with 1 Axes>"
            ],
            "image/png": "[encoded data removed]"
          },
          "metadata": {
            "needs_background": "light"
          }
        }
      ]
    },
    {
      "cell_type": "code",
      "source": [
        "# Get the variable to examine\n",
        "var = df_students['Grade']\n",
        "\n",
        "# Create a Figure\n",
        "fig = plt.figure(figsize=(10,4))\n",
        "\n",
        "# Plot a histogram\n",
        "plt.boxplot(var)\n",
        "\n",
        "# Add titles and labels\n",
        "plt.title('Data Distribution')\n",
        "\n",
        "# Show the figure\n",
        "fig.show()"
      ],
      "metadata": {
        "colab": {
          "base_uri": "https://localhost:8080/",
          "height": 281
        },
        "id": "ybDNuIY3bdtZ",
        "outputId": "c40bc2ba-2b44-41b2-833a-7e5abcf807df"
      },
      "execution_count": 27,
      "outputs": [
        {
          "output_type": "display_data",
          "data": {
            "text/plain": [
              "<Figure size 720x288 with 1 Axes>"
            ],
            "image/png": "[encoded data removed]"
          },
          "metadata": {
            "needs_background": "light"
          }
        }
      ]
    },
    {
      "cell_type": "code",
      "source": [
        "# Create a function that we can re-use\n",
        "def show_distribution(var_data):\n",
        "    from matplotlib import pyplot as plt\n",
        "\n",
        "    # Get statistics\n",
        "    min_val = var_data.min()\n",
        "    max_val = var_data.max()\n",
        "    mean_val = var_data.mean()\n",
        "    med_val = var_data.median()\n",
        "    mod_val = var_data.mode()[0]\n",
        "\n",
        "    print('Minimum:{:.2f}\\nMean:{:.2f}\\nMedian:{:.2f}\\nMode:{:.2f}\\nMaximum:{:.2f}\\n'.format(min_val,\n",
        "                                                                                            mean_val,\n",
        "                                                                                            med_val,\n",
        "                                                                                            mod_val,\n",
        "                                                                                            max_val))\n",
        "\n",
        "    # Create a figure for 2 subplots (2 rows, 1 column)\n",
        "    fig, ax = plt.subplots(2, 1, figsize = (10,4))\n",
        "\n",
        "    # Plot the histogram   \n",
        "    ax[0].hist(var_data, color='silver')\n",
        "    ax[0].set_ylabel('Frequency')\n",
        "\n",
        "    # Add lines for the mean, median, and mode\n",
        "    ax[0].axvline(x=min_val, color = 'gray', linestyle='dashed', linewidth = 2)\n",
        "    ax[0].axvline(x=mean_val, color = 'tan', linestyle='dashed', linewidth = 2)\n",
        "    ax[0].axvline(x=med_val, color = 'silver', linestyle='dashed', linewidth = 2)\n",
        "    ax[0].axvline(x=mod_val, color = 'black', linestyle='dashed', linewidth = 2)\n",
        "    ax[0].axvline(x=max_val, color = 'gray', linestyle='dashed', linewidth = 2)\n",
        "\n",
        "    # Plot the boxplot   \n",
        "    ax[1].boxplot(var_data, vert=False)\n",
        "    ax[1].set_xlabel('Value')\n",
        "\n",
        "    # Add a title to the Figure\n",
        "    fig.suptitle('Data Distribution')\n",
        "\n",
        "    # Show the figure\n",
        "    fig.show()\n",
        "\n",
        "# Get the variable to examine\n",
        "col = df_students['Grade']\n",
        "# Call the function\n",
        "show_distribution(col)"
      ],
      "metadata": {
        "colab": {
          "base_uri": "https://localhost:8080/",
          "height": 410
        },
        "id": "bo74aGOJbkGI",
        "outputId": "ef531261-6b27-4728-d368-6407078611af"
      },
      "execution_count": 30,
      "outputs": [
        {
          "output_type": "stream",
          "name": "stdout",
          "text": [
            "Minimum:3.00\n",
            "Mean:49.18\n",
            "Median:49.50\n",
            "Mode:50.00\n",
            "Maximum:97.00\n",
            "\n"
          ]
        },
        {
          "output_type": "display_data",
          "data": {
            "text/plain": [
              "<Figure size 720x288 with 2 Axes>"
            ],
            "image/png": "[encoded data removed]"
          },
          "metadata": {
            "needs_background": "light"
          }
        }
      ]
    },
    {
      "cell_type": "code",
      "source": [
        "def show_density(var_data):\n",
        "    from matplotlib import pyplot as plt\n",
        "\n",
        "    fig = plt.figure(figsize=(10,4))\n",
        "\n",
        "    # Plot density\n",
        "    var_data.plot.density(color='silver')\n",
        "\n",
        "    # Add titles and labels\n",
        "    plt.title('Data Density')\n",
        "\n",
        "    # Show the mean, median, and mode\n",
        "    plt.axvline(x=var_data.mean(), color = 'tan', linestyle='dashed', linewidth = 2)\n",
        "    plt.axvline(x=var_data.median(), color = 'silver', linestyle='dashed', linewidth = 2)\n",
        "    plt.axvline(x=var_data.mode()[0], color = 'black', linestyle='dashed', linewidth = 2)\n",
        "\n",
        "    # Show the figure\n",
        "    plt.show()\n",
        "\n",
        "# Get the density of Grade\n",
        "col = df_students['Grade']\n",
        "show_density(col)"
      ],
      "metadata": {
        "colab": {
          "base_uri": "https://localhost:8080/",
          "height": 281
        },
        "id": "SV4jO7F1bkJA",
        "outputId": "16334939-27ed-4658-c660-952632696195"
      },
      "execution_count": 33,
      "outputs": [
        {
          "output_type": "display_data",
          "data": {
            "text/plain": [
              "<Figure size 720x288 with 1 Axes>"
            ],
            "image/png": "[encoded data removed]"
          },
          "metadata": {
            "needs_background": "light"
          }
        }
      ]
    },
    {
      "cell_type": "code",
      "source": [],
      "metadata": {
        "id": "2mFKmtVIbkM-"
      },
      "execution_count": null,
      "outputs": []
    },
    {
      "cell_type": "code",
      "source": [],
      "metadata": {
        "id": "eVYAaFl0Z2Ft"
      },
      "execution_count": null,
      "outputs": []
    }
  ]
}